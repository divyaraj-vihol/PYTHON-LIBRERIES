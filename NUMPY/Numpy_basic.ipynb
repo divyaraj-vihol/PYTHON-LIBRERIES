{
 "cells": [
  {
   "cell_type": "code",
   "execution_count": null,
   "id": "0b64154c-283c-40ac-9bcc-3a3d6f3966b6",
   "metadata": {},
   "outputs": [],
   "source": [
    "# Importing NumPy and printing version number\n",
    "import numpy as np\n",
    "\n",
    "print(np.__version__)\n",
    "\n"
   ]
  },
  {
   "cell_type": "code",
   "execution_count": 2,
   "id": "1f9fa7b9-c1df-4d1a-ae7b-00c7c0fde2e7",
   "metadata": {},
   "outputs": [
    {
     "name": "stdout",
     "output_type": "stream",
     "text": [
      "[[11 13 15]\n",
      " [17 19 21]]\n"
     ]
    }
   ],
   "source": [
    "import numpy as np\n",
    "a = np.array([[1,2,3],\n",
    "              [4,5,6]])\n",
    "\n",
    "b = np.array([[10,11,12],\n",
    "              [13,14,15]])\n",
    "\n",
    "c = a + b\n",
    "\n",
    "print(c)"
   ]
  },
  {
   "cell_type": "code",
   "execution_count": 3,
   "id": "68521525-0366-4ae5-9498-6c796f270141",
   "metadata": {},
   "outputs": [
    {
     "name": "stdout",
     "output_type": "stream",
     "text": [
      "[[ 2  4  6]\n",
      " [ 8 10 12]]\n"
     ]
    }
   ],
   "source": [
    "a = np.array([[1,2,3],\n",
    "              [4,5,6]])\n",
    "\n",
    "b = 2*a # multiplying the numpy array a(matrix) by 2\n",
    "\n",
    "print(b)"
   ]
  },
  {
   "cell_type": "code",
   "execution_count": 4,
   "id": "da9e11ea-3121-496f-be3f-5000b6c6dfba",
   "metadata": {},
   "outputs": [
    {
     "name": "stdout",
     "output_type": "stream",
     "text": [
      "[[1. 0. 0. 0.]\n",
      " [0. 1. 0. 0.]\n",
      " [0. 0. 1. 0.]\n",
      " [0. 0. 0. 1.]]\n"
     ]
    }
   ],
   "source": [
    "#Create an identity matrix of dimension 4-by-4\n",
    "i = np.eye(4)\n",
    "\n",
    "print(i)"
   ]
  },
  {
   "cell_type": "code",
   "execution_count": 5,
   "id": "f38691e1-1d25-4d13-b5c8-11c153b89c89",
   "metadata": {},
   "outputs": [
    {
     "name": "stdout",
     "output_type": "stream",
     "text": [
      "[[[ 0  1  2]\n",
      "  [ 3  4  5]\n",
      "  [ 6  7  8]]\n",
      "\n",
      " [[ 9 10 11]\n",
      "  [12 13 14]\n",
      "  [15 16 17]]\n",
      "\n",
      " [[18 19 20]\n",
      "  [21 22 23]\n",
      "  [24 25 26]]]\n"
     ]
    }
   ],
   "source": [
    " #Convert a 1-D array to a 3-D array\n",
    "a = np.array([x for x in range(27)])\n",
    "\n",
    "o = a.reshape((3,3,3))\n",
    "\n",
    "print(o)"
   ]
  },
  {
   "cell_type": "code",
   "execution_count": 6,
   "id": "6ee07ac1-c628-4848-a600-f2b2bfcd5431",
   "metadata": {},
   "outputs": [
    {
     "name": "stdout",
     "output_type": "stream",
     "text": [
      "[[2 3 1]\n",
      " [4 2 1]]\n"
     ]
    }
   ],
   "source": [
    "#Convert all the elements of a numpy array from float to integer datatype\n",
    "a = np.array([[2.5, 3.8, 1.5],\n",
    "              [4.7, 2.9, 1.56]])\n",
    "\n",
    "o = a.astype('int')\n",
    "\n",
    "print(o)"
   ]
  },
  {
   "cell_type": "code",
   "execution_count": 7,
   "id": "13b61ab2-dc66-4c16-bd1a-8aa01e8e86e7",
   "metadata": {},
   "outputs": [
    {
     "name": "stdout",
     "output_type": "stream",
     "text": [
      "[[ True False False]\n",
      " [ True  True  True]\n",
      " [False False False]]\n"
     ]
    }
   ],
   "source": [
    "#Convert a binary numpy array (containing only 0s and 1s) to a boolean numpy array\n",
    "a = np.array([[1, 0, 0],\n",
    "              [1, 1, 1],\n",
    "              [0, 0, 0]])\n",
    "\n",
    "o = a.astype('bool')\n",
    "\n",
    "print(o)"
   ]
  },
  {
   "cell_type": "code",
   "execution_count": 8,
   "id": "3fd86a9d-3027-40e9-b2ca-630a0fe71aec",
   "metadata": {},
   "outputs": [
    {
     "name": "stdout",
     "output_type": "stream",
     "text": [
      "[[ 1  2  3  7  8  9]\n",
      " [ 4  5  6 10 11 12]]\n"
     ]
    }
   ],
   "source": [
    "a1 = np.array([[1,2,3],\n",
    "               [4,5,6]])\n",
    "\n",
    "a2 = np.array([[7,8,9],\n",
    "               [10,11,12]])\n",
    "\n",
    "o = np.hstack((a1, a2))\n",
    "\n",
    "print(o)"
   ]
  },
  {
   "cell_type": "code",
   "execution_count": 9,
   "id": "bbe58a3e-118b-4195-833b-c7f45f461710",
   "metadata": {},
   "outputs": [
    {
     "name": "stdout",
     "output_type": "stream",
     "text": [
      "[[ 1  2]\n",
      " [ 3  4]\n",
      " [ 5  6]\n",
      " [ 7  8]\n",
      " [ 9 10]\n",
      " [10 11]]\n"
     ]
    }
   ],
   "source": [
    "a1 = np.array([[1,2],\n",
    "               [3,4],\n",
    "               [5,6]])\n",
    "\n",
    "a2 = np.array([[7,8],\n",
    "               [9,10],\n",
    "               [10,11]])\n",
    "\n",
    "o = np.vstack((a1, a2))\n",
    "\n",
    "print(o)"
   ]
  },
  {
   "cell_type": "code",
   "execution_count": 10,
   "id": "20f71e8a-25cd-4b76-87b2-abeef4b1ab4d",
   "metadata": {},
   "outputs": [
    {
     "name": "stdout",
     "output_type": "stream",
     "text": [
      "[  0   2   4   6   8  10  12  14  16  18  20  22  24  26  28  30  32  34\n",
      "  36  38  40  42  44  46  48  50  52  54  56  58  60  62  64  66  68  70\n",
      "  72  74  76  78  80  82  84  86  88  90  92  94  96  98 100]\n"
     ]
    }
   ],
   "source": [
    "#sequence of numbers in the form of a numpy array from 0 to 100 with gaps of 2 numbers\n",
    "\n",
    "list_of_numbers = [x for x in range(0, 101, 2)]\n",
    "\n",
    "o = np.array(list_of_numbers)\n",
    "\n",
    "print(o)"
   ]
  },
  {
   "cell_type": "code",
   "execution_count": 11,
   "id": "cc77b3fe-7938-402f-8c33-86bba1e62cda",
   "metadata": {},
   "outputs": [
    {
     "name": "stdout",
     "output_type": "stream",
     "text": [
      "[  0.  25.  50.  75. 100.]\n"
     ]
    }
   ],
   "source": [
    "o = np.linspace(0, 100, 5)   #gapped 5 number in range 0 to 100\n",
    "\n",
    "print(o)"
   ]
  },
  {
   "cell_type": "code",
   "execution_count": 12,
   "id": "cd33abe5-70a1-4e8d-8af0-f2e8f1488ebc",
   "metadata": {},
   "outputs": [
    {
     "name": "stdout",
     "output_type": "stream",
     "text": [
      "[[5 5 5]\n",
      " [5 5 5]]\n",
      "[[5. 5. 5.]\n",
      " [5. 5. 5.]]\n"
     ]
    }
   ],
   "source": [
    "o = np.full((2, 3), 5)\n",
    "print(o)\n",
    "\n",
    "\n",
    "a = np.ones((2, 3))\n",
    "o = 5*a\n",
    "print(o)\n"
   ]
  },
  {
   "cell_type": "code",
   "execution_count": 13,
   "id": "ca794c84-c5ec-4cc2-b9c3-379fe587df13",
   "metadata": {},
   "outputs": [
    {
     "name": "stdout",
     "output_type": "stream",
     "text": [
      "[[2 2 6 1 3]\n",
      " [9 6 1 0 1]\n",
      " [9 0 0 9 3]\n",
      " [4 0 0 4 1]\n",
      " [7 3 2 4 7]]\n"
     ]
    }
   ],
   "source": [
    "#Output a 5-by-5 array of random integers between 0 (inclusive) and 10 (exclusive)\n",
    "np.random.seed(123) # setting the seed\n",
    "\n",
    "o = np.random.randint(0, 10, size = (5,5))\n",
    "\n",
    "print(o)"
   ]
  },
  {
   "cell_type": "code",
   "execution_count": 14,
   "id": "25a61c40-ddb2-46f9-997c-8970d6040f37",
   "metadata": {},
   "outputs": [
    {
     "name": "stdout",
     "output_type": "stream",
     "text": [
      "[[-1.0856306   0.99734545  0.2829785 ]\n",
      " [-1.50629471 -0.57860025  1.65143654]\n",
      " [-2.42667924 -0.42891263  1.26593626]]\n"
     ]
    }
   ],
   "source": [
    "#Output a 3-by-3 array of random numbers following normal distribution\n",
    "np.random.seed(123) # setting the seed\n",
    "\n",
    "o = np.random.normal(size = (3,3))\n",
    "\n",
    "print(o)"
   ]
  },
  {
   "cell_type": "code",
   "execution_count": 15,
   "id": "bf43944c-23ff-4777-ae78-9330633b201d",
   "metadata": {},
   "outputs": [
    {
     "name": "stdout",
     "output_type": "stream",
     "text": [
      "[[ 36  42  48]\n",
      " [ 81  96 111]\n",
      " [126 150 174]]\n"
     ]
    }
   ],
   "source": [
    "a = np.array([[1,2,3],\n",
    "              [4,5,6],\n",
    "              [7,8,9]])\n",
    "\n",
    "b = np.array([[2,3,4],\n",
    "              [5,6,7],\n",
    "              [8,9,10]])\n",
    "\n",
    "o = a@b\n",
    "\n",
    "print(o)"
   ]
  },
  {
   "cell_type": "code",
   "execution_count": 17,
   "id": "7393564e-763d-4b81-bbc9-90cc6db5efd6",
   "metadata": {},
   "outputs": [
    {
     "name": "stdout",
     "output_type": "stream",
     "text": [
      "[[1 4 7]\n",
      " [2 5 8]\n",
      " [3 6 9]]\n"
     ]
    }
   ],
   "source": [
    "a = np.array([[1,2,3],\n",
    "              [4,5,6],\n",
    "              [7,8,9]])\n",
    "\n",
    "a_transpose = a.T\n",
    "\n",
    "print(a_transpose)  #Matrix Transpose"
   ]
  },
  {
   "cell_type": "code",
   "execution_count": 18,
   "id": "12c77dab-0be4-4f96-8770-621b4b0d7292",
   "metadata": {},
   "outputs": [
    {
     "name": "stdout",
     "output_type": "stream",
     "text": [
      "Input unsorted array :  [2 0 1 5 4 1 9]\n",
      "Output sorted array indices :  [1 2 5 0 4 3 6]\n",
      "Output sorted array :  [0 1 1 2 4 5 9]\n"
     ]
    }
   ],
   "source": [
    "in_arr = np.array([2, 0, 1, 5, 4, 1, 9])\n",
    "print(\"Input unsorted array : \", in_arr)\n",
    " \n",
    "out_arr = np.argsort(in_arr)\n",
    "print(\"Output sorted array indices : \", out_arr)\n",
    "print(\"Output sorted array : \", in_arr[out_arr])"
   ]
  },
  {
   "cell_type": "code",
   "execution_count": null,
   "id": "acad93f6-9a75-4a66-a6dc-2f979bb907d8",
   "metadata": {},
   "outputs": [],
   "source": [
    "# Mathematics: np.sum, np.exp, np.round, arithemtic operators\n",
    "# Array manipulation: np.reshape, np.stack, np.concatenate, np.split\n",
    "# Linear Algebra: np.matmul, np.dot, np.transpose, np.eigvals\n",
    "# Statistics: np.mean, np.median, np.std, np.max\n"
   ]
  },
  {
   "cell_type": "code",
   "execution_count": 22,
   "id": "de4bcc20-c0e6-430e-b7fb-57ce8fcd09c5",
   "metadata": {},
   "outputs": [],
   "source": [
    "import numpy as np\n",
    "\n",
    "arr1 = np.array([[1, 6, 7, 4], \n",
    "                 [5, 3, 7, 8], \n",
    "                 [6, 7, 2, 9]])\n",
    "\n",
    "arr2 = np.array([[11, 17, 17, 14], \n",
    "                 [15, 16, 19, 18], \n",
    "                 [14, 11, 11, 13]])\n"
   ]
  },
  {
   "cell_type": "code",
   "execution_count": 23,
   "id": "b4c4d7c1-430b-4baf-897c-4f21717eff08",
   "metadata": {},
   "outputs": [
    {
     "data": {
      "text/plain": [
       "array([[12, 23, 24, 18],\n",
       "       [20, 19, 26, 26],\n",
       "       [20, 18, 13, 22]])"
      ]
     },
     "execution_count": 23,
     "metadata": {},
     "output_type": "execute_result"
    }
   ],
   "source": [
    "arr1 + arr2"
   ]
  },
  {
   "cell_type": "code",
   "execution_count": 24,
   "id": "d371919b-f2f9-4e39-8c85-77b577766a3d",
   "metadata": {},
   "outputs": [
    {
     "data": {
      "text/plain": [
       "array([[ 11, 102, 119,  56],\n",
       "       [ 75,  48, 133, 144],\n",
       "       [ 84,  77,  22, 117]])"
      ]
     },
     "execution_count": 24,
     "metadata": {},
     "output_type": "execute_result"
    }
   ],
   "source": [
    "arr1 * arr2\n"
   ]
  },
  {
   "cell_type": "code",
   "execution_count": 25,
   "id": "bbf33c2b-e9d1-452d-9514-42e8a31392db",
   "metadata": {},
   "outputs": [
    {
     "data": {
      "text/plain": [
       "array([[ 6, 11, 12,  9],\n",
       "       [10,  8, 12, 13],\n",
       "       [11, 12,  7, 14]])"
      ]
     },
     "execution_count": 25,
     "metadata": {},
     "output_type": "execute_result"
    }
   ],
   "source": [
    "arr1 + 5"
   ]
  },
  {
   "cell_type": "code",
   "execution_count": 26,
   "id": "c3efdc74-e821-4205-a570-f4a56a319df5",
   "metadata": {},
   "outputs": [
    {
     "data": {
      "text/plain": [
       "array([[0.09090909, 0.35294118, 0.41176471, 0.28571429],\n",
       "       [0.33333333, 0.1875    , 0.36842105, 0.44444444],\n",
       "       [0.42857143, 0.63636364, 0.18181818, 0.69230769]])"
      ]
     },
     "execution_count": 26,
     "metadata": {},
     "output_type": "execute_result"
    }
   ],
   "source": [
    "arr1 / arr2\n"
   ]
  },
  {
   "cell_type": "code",
   "execution_count": 27,
   "id": "2dd8c108-617d-448c-9781-7ce8c2996108",
   "metadata": {},
   "outputs": [
    {
     "data": {
      "text/plain": [
       "array([[1, 1, 2, 4],\n",
       "       [0, 3, 2, 3],\n",
       "       [1, 2, 2, 4]])"
      ]
     },
     "execution_count": 27,
     "metadata": {},
     "output_type": "execute_result"
    }
   ],
   "source": [
    "arr1 % 5"
   ]
  },
  {
   "cell_type": "code",
   "execution_count": 28,
   "id": "938225ad-9508-4f2f-9b8a-dc3437151f4c",
   "metadata": {},
   "outputs": [
    {
     "data": {
      "text/plain": [
       "array([[11, 17, 17, 14],\n",
       "       [15, 16, 19, 18],\n",
       "       [14, 11, 11, 13]])"
      ]
     },
     "execution_count": 28,
     "metadata": {},
     "output_type": "execute_result"
    }
   ],
   "source": [
    "arr2"
   ]
  },
  {
   "cell_type": "code",
   "execution_count": 30,
   "id": "09976930-75b9-40fe-acca-700c427b82a5",
   "metadata": {},
   "outputs": [],
   "source": [
    "arr3 =np.array([4,5,6,8])"
   ]
  },
  {
   "cell_type": "code",
   "execution_count": 31,
   "id": "5a9495cd-41e4-4a9d-a426-40e1bd0044d1",
   "metadata": {},
   "outputs": [
    {
     "data": {
      "text/plain": [
       "(4,)"
      ]
     },
     "execution_count": 31,
     "metadata": {},
     "output_type": "execute_result"
    }
   ],
   "source": [
    "arr3.shape"
   ]
  },
  {
   "cell_type": "code",
   "execution_count": 33,
   "id": "438c89a9-0dce-4819-93bb-4d388b85267f",
   "metadata": {},
   "outputs": [
    {
     "data": {
      "text/plain": [
       "array([[False, False, False, False],\n",
       "       [False, False, False, False],\n",
       "       [False, False, False, False]])"
      ]
     },
     "execution_count": 33,
     "metadata": {},
     "output_type": "execute_result"
    }
   ],
   "source": [
    "arr1 == arr2"
   ]
  },
  {
   "cell_type": "code",
   "execution_count": 34,
   "id": "3173f560-7bc0-4fad-9d63-373cd5fcfc74",
   "metadata": {},
   "outputs": [
    {
     "data": {
      "text/plain": [
       "dtype('bool')"
      ]
     },
     "execution_count": 34,
     "metadata": {},
     "output_type": "execute_result"
    }
   ],
   "source": [
    "(arr1 == arr2).dtype\n"
   ]
  },
  {
   "cell_type": "code",
   "execution_count": 35,
   "id": "9ca375c3-bdd7-40a6-af17-61cfaddb20a5",
   "metadata": {},
   "outputs": [
    {
     "data": {
      "text/plain": [
       "array([[ True,  True,  True,  True],\n",
       "       [ True,  True,  True,  True],\n",
       "       [ True,  True,  True,  True]])"
      ]
     },
     "execution_count": 35,
     "metadata": {},
     "output_type": "execute_result"
    }
   ],
   "source": [
    "arr1 != arr2"
   ]
  },
  {
   "cell_type": "code",
   "execution_count": 36,
   "id": "e90f9f0f-60de-479f-bf2f-ecb42643e8ca",
   "metadata": {},
   "outputs": [
    {
     "data": {
      "text/plain": [
       "array([[False, False, False, False],\n",
       "       [False, False, False, False],\n",
       "       [False, False, False, False]])"
      ]
     },
     "execution_count": 36,
     "metadata": {},
     "output_type": "execute_result"
    }
   ],
   "source": [
    "arr1 >= arr2\n"
   ]
  },
  {
   "cell_type": "code",
   "execution_count": 41,
   "id": "4b3eeaa7-0187-44ae-b97e-16c5fdff0862",
   "metadata": {},
   "outputs": [
    {
     "data": {
      "text/plain": [
       "(3, 2, 4)"
      ]
     },
     "execution_count": 41,
     "metadata": {},
     "output_type": "execute_result"
    }
   ],
   "source": [
    "arr4 = np.array([\n",
    "    [[11, 12, 13, 14], \n",
    "     [13, 14, 15, 19]], \n",
    "    \n",
    "    [[15, 16, 17, 21], \n",
    "     [63, 92, 36, 18]], \n",
    "    \n",
    "    [[98, 32, 81, 23],      \n",
    "     [17, 18, 19.5, 43]]])\n",
    "\n",
    "arr4.shape"
   ]
  },
  {
   "cell_type": "code",
   "execution_count": 42,
   "id": "1dfcefa1-a779-4158-ade2-74b58cfac475",
   "metadata": {},
   "outputs": [
    {
     "data": {
      "text/plain": [
       "np.float64(36.0)"
      ]
     },
     "execution_count": 42,
     "metadata": {},
     "output_type": "execute_result"
    }
   ],
   "source": [
    "arr4[1,1,2]"
   ]
  },
  {
   "cell_type": "code",
   "execution_count": 43,
   "id": "40288e56-0c1b-414f-9643-663e210f5c1c",
   "metadata": {},
   "outputs": [
    {
     "data": {
      "text/plain": [
       "array([[[15., 16.]],\n",
       "\n",
       "       [[98., 32.]]])"
      ]
     },
     "execution_count": 43,
     "metadata": {},
     "output_type": "execute_result"
    }
   ],
   "source": [
    "# subarray using ranges\n",
    "\n",
    "arr4[1:,0:1,:2]"
   ]
  },
  {
   "cell_type": "code",
   "execution_count": 44,
   "id": "c04e6f67-b73e-45fa-9693-b5323eebcff9",
   "metadata": {},
   "outputs": [
    {
     "data": {
      "text/plain": [
       "array([[63. , 92. , 36. ],\n",
       "       [17. , 18. , 19.5]])"
      ]
     },
     "execution_count": 44,
     "metadata": {},
     "output_type": "execute_result"
    }
   ],
   "source": [
    "# mixing indicies and ranges\n",
    "arr4[1:,1,:3]"
   ]
  },
  {
   "cell_type": "code",
   "execution_count": 45,
   "id": "d92f9237-fc9c-41b7-88c6-248bc9293091",
   "metadata": {},
   "outputs": [
    {
     "data": {
      "text/plain": [
       "array([[0., 0.],\n",
       "       [0., 0.],\n",
       "       [0., 0.]])"
      ]
     },
     "execution_count": 45,
     "metadata": {},
     "output_type": "execute_result"
    }
   ],
   "source": [
    "np.zeros((3,2))\n"
   ]
  },
  {
   "cell_type": "code",
   "execution_count": 46,
   "id": "1a827fa3-2857-49eb-beeb-3d7204fafc30",
   "metadata": {},
   "outputs": [
    {
     "data": {
      "text/plain": [
       "array([[[1., 1., 1.],\n",
       "        [1., 1., 1.]],\n",
       "\n",
       "       [[1., 1., 1.],\n",
       "        [1., 1., 1.]]])"
      ]
     },
     "execution_count": 46,
     "metadata": {},
     "output_type": "execute_result"
    }
   ],
   "source": [
    "\n",
    "# All ones\n",
    "np.ones([2, 2, 3])"
   ]
  },
  {
   "cell_type": "code",
   "execution_count": 47,
   "id": "a179ab7a-2bb2-4962-9593-abecdeb9e82b",
   "metadata": {},
   "outputs": [
    {
     "data": {
      "text/plain": [
       "array([[1., 0., 0.],\n",
       "       [0., 1., 0.],\n",
       "       [0., 0., 1.]])"
      ]
     },
     "execution_count": 47,
     "metadata": {},
     "output_type": "execute_result"
    }
   ],
   "source": [
    "\n",
    "np.eye(3)    # Identity matrix"
   ]
  },
  {
   "cell_type": "code",
   "execution_count": 49,
   "id": "df811a09-25c0-42df-9d46-a09831b8ebe3",
   "metadata": {},
   "outputs": [
    {
     "data": {
      "text/plain": [
       "array([[26, 26, 26],\n",
       "       [26, 26, 26]])"
      ]
     },
     "execution_count": 49,
     "metadata": {},
     "output_type": "execute_result"
    }
   ],
   "source": [
    "np.full([2, 3], 26)  #fixed value\n"
   ]
  },
  {
   "cell_type": "code",
   "execution_count": 53,
   "id": "0c5a09ba-fc5a-4ecb-8ac9-722687b30c1a",
   "metadata": {},
   "outputs": [
    {
     "data": {
      "text/plain": [
       "array([[[10, 13, 16],\n",
       "        [19, 22, 25],\n",
       "        [28, 31, 34]],\n",
       "\n",
       "       [[37, 40, 43],\n",
       "        [46, 49, 52],\n",
       "        [55, 58, 61]],\n",
       "\n",
       "       [[64, 67, 70],\n",
       "        [73, 76, 79],\n",
       "        [82, 85, 88]]])"
      ]
     },
     "execution_count": 53,
     "metadata": {},
     "output_type": "execute_result"
    }
   ],
   "source": [
    "np.arange(10,90,3).reshape(3,3,3)\n"
   ]
  },
  {
   "cell_type": "code",
   "execution_count": 54,
   "id": "7de0a4cd-cbbf-4cc2-bf6d-2b4927d80a4a",
   "metadata": {},
   "outputs": [
    {
     "data": {
      "text/plain": [
       "np.float64(1.0)"
      ]
     },
     "execution_count": 54,
     "metadata": {},
     "output_type": "execute_result"
    }
   ],
   "source": [
    "np.sin(np.pi/2.)\n"
   ]
  },
  {
   "cell_type": "code",
   "execution_count": null,
   "id": "0509517c-fb79-4c50-8fe6-d73c3571253d",
   "metadata": {},
   "outputs": [],
   "source": []
  }
 ],
 "metadata": {
  "kernelspec": {
   "display_name": "Python 3 (ipykernel)",
   "language": "python",
   "name": "python3"
  },
  "language_info": {
   "codemirror_mode": {
    "name": "ipython",
    "version": 3
   },
   "file_extension": ".py",
   "mimetype": "text/x-python",
   "name": "python",
   "nbconvert_exporter": "python",
   "pygments_lexer": "ipython3",
   "version": "3.12.4"
  }
 },
 "nbformat": 4,
 "nbformat_minor": 5
}
